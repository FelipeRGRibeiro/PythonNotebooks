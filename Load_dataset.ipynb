{
  "nbformat": 4,
  "nbformat_minor": 0,
  "metadata": {
    "colab": {
      "name": "Load_dataset.ipynb",
      "provenance": [],
      "collapsed_sections": [
        "vjCn04zuBZUU",
        "R1WC0ApTyyez",
        "tppDPT1611He",
        "r9xQ9otLnZHD",
        "RiXkVv05m_I9"
      ]
    },
    "kernelspec": {
      "name": "python3",
      "display_name": "Python 3"
    },
    "language_info": {
      "name": "python"
    },
    "accelerator": "GPU"
  },
  "cells": [
    {
      "cell_type": "code",
      "metadata": {
        "id": "fyjEvzjPW9ck"
      },
      "source": [
        "from google.colab import drive\n",
        "import os\n",
        "import pandas as pd\n",
        "import numpy as np\n",
        "import matplotlib.pyplot as plt\n",
        "from google.colab.patches import cv2_imshow\n",
        "\n",
        "from sklearn.metrics import confusion_matrix\n",
        "from sklearn.model_selection import train_test_split\n",
        "\n",
        "import tensorflow as tf\n",
        "from tensorflow.keras.utils import load_img\n",
        "from tensorflow.keras.utils import img_to_array\n",
        "from tensorflow.keras.utils import to_categorical"
      ],
      "execution_count": null,
      "outputs": []
    },
    {
      "cell_type": "markdown",
      "source": [
        "##Conectando ao Google Drive"
      ],
      "metadata": {
        "id": "QWaD2J2lmND-"
      }
    },
    {
      "cell_type": "code",
      "metadata": {
        "id": "Lzp_4XIgyyDj"
      },
      "source": [
        "# drive.mount('/content/drive/')\n",
        "# ! cp /content/drive/dataset.zip /content/"
      ],
      "execution_count": null,
      "outputs": []
    },
    {
      "cell_type": "markdown",
      "source": [
        "## Descompactando os arquivos"
      ],
      "metadata": {
        "id": "KcnRbKHuoWT9"
      }
    },
    {
      "cell_type": "code",
      "metadata": {
        "id": "RYFEXUazuYKb"
      },
      "source": [
        "if not os.path.exists('/content/dataset'):\n",
        "  ! mkdir -p /content/dataset/\n",
        "  ! unzip /content/dataset.zip -d /content/dataset"
      ],
      "execution_count": null,
      "outputs": []
    },
    {
      "cell_type": "markdown",
      "metadata": {
        "id": "jwHLu3MX3-CD"
      },
      "source": [
        "## Carregar imagens"
      ]
    },
    {
      "cell_type": "code",
      "metadata": {
        "id": "_AUTEls63z_1"
      },
      "source": [
        "dataset = []\n",
        "shape = (224, 224)\n",
        "count = 0\n",
        "dir = \"/content/dataset\"\n",
        "for path in os.listdir(dir):\n",
        "    t=0\n",
        "    for im in os.listdir(f\"{dir}/{path}\"):\n",
        "        image = load_img(f\"{dir}/{path}/{im}\", target_size = shape)\n",
        "        image = img_to_array(image)\n",
        "        image = image / 255.0\n",
        "        dataset += [[image, count]]\n",
        "        t += 1\n",
        "    count = count + 1"
      ],
      "execution_count": null,
      "outputs": []
    },
    {
      "cell_type": "code",
      "metadata": {
        "id": "cUHE1WhzVHKc"
      },
      "source": [
        "data, labels0 = zip(*dataset)"
      ],
      "execution_count": null,
      "outputs": []
    },
    {
      "cell_type": "code",
      "metadata": {
        "id": "gdsKN5OCVSUu"
      },
      "source": [
        "labels1 = to_categorical(labels0)\n",
        "labels = np.array(labels1)"
      ],
      "execution_count": null,
      "outputs": []
    },
    {
      "cell_type": "code",
      "metadata": {
        "id": "sKJAO5MMVTUb"
      },
      "source": [
        "data=np.array(data)"
      ],
      "execution_count": null,
      "outputs": []
    },
    {
      "cell_type": "markdown",
      "source": [
        "## Dividir a base em treino e teste"
      ],
      "metadata": {
        "id": "KopUCbfu0ihN"
      }
    },
    {
      "cell_type": "code",
      "metadata": {
        "id": "-UfXGjR1VUUS"
      },
      "source": [
        "x_train, x_test, y_train, y_test = train_test_split(data,\n",
        "                                                    labels,\n",
        "                                                    test_size = 0.2,\n",
        "                                                    random_state = 42)"
      ],
      "execution_count": null,
      "outputs": []
    }
  ]
}