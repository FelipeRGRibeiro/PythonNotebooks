{
  "cells": [
    {
      "cell_type": "code",
      "source": [
        "import pandas as pd\n",
        "import numpy as np\n",
        "import matplotlib.pyplot as plt\n",
        "\n",
        "from sklearn.metrics import confusion_matrix\n",
        "\n",
        "import tensorflow as tf\n",
        "\n",
        "#Bibliotecas para treino eficiente da rede\n",
        "from tensorflow.keras.callbacks import EarlyStopping\n",
        "from tensorflow.keras.callbacks import ModelCheckpoint\n",
        "from tensorflow.keras.callbacks import ReduceLROnPlateau\n",
        "#Bibliotecas para montar a rede neural\n",
        "from tensorflow.keras.layers import Input #Input Layer\n",
        "from tensorflow.keras.layers import Dense #Dense Layer (Fully connected)\n",
        "from tensorflow.keras.models import Model #Model Structure\n",
        "from tensorflow.keras.layers import BatchNormalization #Normalization Layer\n",
        "from tensorflow.keras.layers import Dropout #Regularization Layer\n",
        "from tensorflow.keras.layers import Flatten #Reshaping Layer"
      ],
      "metadata": {
        "id": "dV-TGLAuX66v"
      },
      "execution_count": null,
      "outputs": []
    },
    {
      "cell_type": "markdown",
      "source": [
        "#Dataset de exemplo do Keras\n",
        "\n",
        "https://keras.io/api/datasets/"
      ],
      "metadata": {
        "id": "Q5ayqiY_YXAo"
      }
    },
    {
      "cell_type": "code",
      "execution_count": null,
      "metadata": {
        "id": "-zBvntdTXecw"
      },
      "outputs": [],
      "source": [
        "(x_train, y_train), (x_test, y_test) = tf.keras.datasets.mnist.load_data()"
      ]
    },
    {
      "cell_type": "markdown",
      "source": [
        "##Montando a MLP\n",
        "\n",
        "https://keras.io/api/layers/"
      ],
      "metadata": {
        "id": "BdugRxVKYdqq"
      }
    },
    {
      "cell_type": "code",
      "execution_count": null,
      "metadata": {
        "id": "IlS0DFxk-Z5-"
      },
      "outputs": [],
      "source": [
        "model = tf.keras.Sequential()\n",
        "#Reshaping\n",
        "model.add(Flatten(input_shape = (28, 28, 1)))\n",
        "#Core\n",
        "#Regular densely-connected NN layer.\n",
        "model.add(Dense(128, activation = \"relu\"))\n",
        "model.add(Dense(10))"
      ]
    },
    {
      "cell_type": "markdown",
      "source": [
        "##Montando e compilando o modelo\n",
        "\n",
        "https://keras.io/api/optimizers/\n",
        "\n",
        "https://keras.io/api/losses/\n",
        "\n",
        "https://keras.io/api/metrics/"
      ],
      "metadata": {
        "id": "n0nzF7KWYxD9"
      }
    },
    {
      "cell_type": "code",
      "source": [
        "model.compile(\n",
        "    optimizer = tf.keras.optimizers.Adam(0.001),\n",
        "    loss = tf.keras.losses.SparseCategoricalCrossentropy(from_logits=True),\n",
        "    metrics = [tf.keras.metrics.SparseCategoricalAccuracy()],\n",
        ")"
      ],
      "metadata": {
        "id": "wm6bM5YHYtul"
      },
      "execution_count": null,
      "outputs": []
    },
    {
      "cell_type": "markdown",
      "source": [
        "##Treinando o modelo\n",
        "\n",
        "https://keras.io/api/models/model_training_apis/\n",
        "\n",
        "https://keras.io/api/callbacks/"
      ],
      "metadata": {
        "id": "eHRcMSxSZD-c"
      }
    },
    {
      "cell_type": "code",
      "execution_count": null,
      "metadata": {
        "colab": {
          "base_uri": "https://localhost:8080/"
        },
        "id": "lwH2R3hDQdhz",
        "outputId": "9a7acadb-0e50-4c4a-df8a-0fb33cca71f5"
      },
      "outputs": [
        {
          "output_type": "stream",
          "name": "stdout",
          "text": [
            "Epoch 1/4000\n",
            "1875/1875 [==============================] - 6s 3ms/step - loss: 2.3720 - sparse_categorical_accuracy: 0.8693 - val_loss: 0.4892 - val_sparse_categorical_accuracy: 0.8902\n",
            "Epoch 2/4000\n",
            "1875/1875 [==============================] - 7s 3ms/step - loss: 0.3510 - sparse_categorical_accuracy: 0.9176 - val_loss: 0.3876 - val_sparse_categorical_accuracy: 0.9173\n",
            "Epoch 3/4000\n",
            "1875/1875 [==============================] - 7s 4ms/step - loss: 0.2789 - sparse_categorical_accuracy: 0.9301 - val_loss: 0.2881 - val_sparse_categorical_accuracy: 0.9322\n",
            "Epoch 4/4000\n",
            "1875/1875 [==============================] - 7s 4ms/step - loss: 0.2547 - sparse_categorical_accuracy: 0.9362 - val_loss: 0.3065 - val_sparse_categorical_accuracy: 0.9368\n",
            "Epoch 5/4000\n",
            "1875/1875 [==============================] - 7s 4ms/step - loss: 0.2294 - sparse_categorical_accuracy: 0.9417 - val_loss: 0.2737 - val_sparse_categorical_accuracy: 0.9405\n",
            "Epoch 6/4000\n",
            "1875/1875 [==============================] - 5s 3ms/step - loss: 0.2037 - sparse_categorical_accuracy: 0.9486 - val_loss: 0.2487 - val_sparse_categorical_accuracy: 0.9477\n",
            "Epoch 7/4000\n",
            "1875/1875 [==============================] - 6s 3ms/step - loss: 0.2119 - sparse_categorical_accuracy: 0.9494 - val_loss: 0.2785 - val_sparse_categorical_accuracy: 0.9412\n",
            "Epoch 8/4000\n",
            "1875/1875 [==============================] - 5s 3ms/step - loss: 0.1899 - sparse_categorical_accuracy: 0.9531 - val_loss: 0.2702 - val_sparse_categorical_accuracy: 0.9451\n",
            "Epoch 9/4000\n",
            "1875/1875 [==============================] - 6s 3ms/step - loss: 0.1910 - sparse_categorical_accuracy: 0.9550 - val_loss: 0.2878 - val_sparse_categorical_accuracy: 0.9433\n",
            "Epoch 10/4000\n",
            "1875/1875 [==============================] - 5s 3ms/step - loss: 0.1861 - sparse_categorical_accuracy: 0.9558 - val_loss: 0.3393 - val_sparse_categorical_accuracy: 0.9436\n",
            "Epoch 11/4000\n",
            "1875/1875 [==============================] - 5s 3ms/step - loss: 0.1786 - sparse_categorical_accuracy: 0.9575 - val_loss: 0.2675 - val_sparse_categorical_accuracy: 0.9490\n",
            "Epoch 12/4000\n",
            "1875/1875 [==============================] - 5s 3ms/step - loss: 0.1731 - sparse_categorical_accuracy: 0.9584 - val_loss: 0.2758 - val_sparse_categorical_accuracy: 0.9498\n",
            "Epoch 13/4000\n",
            "1875/1875 [==============================] - 5s 3ms/step - loss: 0.1779 - sparse_categorical_accuracy: 0.9598 - val_loss: 0.2863 - val_sparse_categorical_accuracy: 0.9506\n",
            "Epoch 14/4000\n",
            "1875/1875 [==============================] - 6s 3ms/step - loss: 0.1631 - sparse_categorical_accuracy: 0.9615 - val_loss: 0.2989 - val_sparse_categorical_accuracy: 0.9490\n",
            "Epoch 15/4000\n",
            "1875/1875 [==============================] - 6s 3ms/step - loss: 0.1654 - sparse_categorical_accuracy: 0.9609 - val_loss: 0.3050 - val_sparse_categorical_accuracy: 0.9494\n",
            "Epoch 16/4000\n",
            "1875/1875 [==============================] - 5s 3ms/step - loss: 0.1597 - sparse_categorical_accuracy: 0.9627 - val_loss: 0.3268 - val_sparse_categorical_accuracy: 0.9524\n"
          ]
        }
      ],
      "source": [
        "es = EarlyStopping(monitor = 'val_sparse_categorical_accuracy', mode = 'max', verbose = 0, min_delta = .01, patience = 10)\n",
        "mc = ModelCheckpoint('bestmodel.h5', monitor = 'val_sparse_categorical_accuracy', mode = 'max', verbose = 0, save_best_only = True)\n",
        "hist = model.fit(x = x_train, y = y_train,\n",
        "                 epochs = 4000,\n",
        "                 verbose = 1,\n",
        "                 validation_data = (x_test, y_test),\n",
        "                 callbacks = [es, mc])"
      ]
    },
    {
      "cell_type": "markdown",
      "source": [
        "##Medindo o modelo"
      ],
      "metadata": {
        "id": "49Q4WDiAZJwc"
      }
    },
    {
      "cell_type": "code",
      "execution_count": null,
      "metadata": {
        "id": "-IolWcnmvJ6t",
        "colab": {
          "base_uri": "https://localhost:8080/"
        },
        "outputId": "6decf43d-4782-473f-a7b8-b17103513f9d"
      },
      "outputs": [
        {
          "output_type": "stream",
          "name": "stdout",
          "text": [
            "Train: 0.968, Test: 0.952\n",
            "[[ 965    0    0    0    0    3    5    3    4    0]\n",
            " [   0 1104    4    2    1    2    3    2   17    0]\n",
            " [   5    2  983    3    3    0    4    7   25    0]\n",
            " [   1    0   10  943    0   14    0    5   35    2]\n",
            " [   2    1    1    0  948    0    7    3    7   13]\n",
            " [   3    0    1   13    3  819   22    4   24    3]\n",
            " [   6    2    1    0    1    6  938    0    4    0]\n",
            " [   0    6   20    5    3    1    0  971    9   13]\n",
            " [   8    0   11    8    8    1    7    2  926    3]\n",
            " [   5    2    0    7   30    2    0   10   26  927]]\n"
          ]
        }
      ],
      "source": [
        "best_model = tf.keras.models.load_model('bestmodel.h5')\n",
        "_, train_acc = best_model.evaluate(x_train, y_train, verbose = 0)\n",
        "_, test_acc = best_model.evaluate(x_test, y_test, verbose = 0)\n",
        "preds = best_model.predict(x_test, verbose = 0)\n",
        "print(f'Train: {train_acc:.3f}, Test: {test_acc:.3f}' )\n",
        "print(confusion_matrix(y_test, np.argmax(preds, axis = 1)))"
      ]
    },
    {
      "cell_type": "markdown",
      "source": [
        "##Evolução do treinamento"
      ],
      "metadata": {
        "id": "M5x8QrSrezXR"
      }
    },
    {
      "cell_type": "code",
      "source": [
        "plt.plot(hist.history['loss'], label='train')\n",
        "plt.plot(hist.history['val_loss'], label='test')\n",
        "plt.legend()\n",
        "plt.show()"
      ],
      "metadata": {
        "colab": {
          "base_uri": "https://localhost:8080/",
          "height": 265
        },
        "id": "Rq8hriH5e1y8",
        "outputId": "3d13083c-b62b-4e94-e884-315612b63632"
      },
      "execution_count": null,
      "outputs": [
        {
          "output_type": "display_data",
          "data": {
            "text/plain": [
              "<Figure size 432x288 with 1 Axes>"
            ],
            "image/png": "[encoded data removed]"
          },
          "metadata": {
            "needs_background": "light"
          }
        }
      ]
    }
  ],
  "metadata": {
    "colab": {
      "collapsed_sections": [],
      "name": "MLP-PDS.ipynb",
      "provenance": []
    },
    "kernelspec": {
      "display_name": "Python 3",
      "name": "python3"
    },
    "language_info": {
      "name": "python"
    }
  },
  "nbformat": 4,
  "nbformat_minor": 0
}